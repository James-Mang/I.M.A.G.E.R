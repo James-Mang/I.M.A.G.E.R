{
 "cells": [
  {
   "cell_type": "markdown",
   "metadata": {},
   "source": [
    "# I.M.A.G.E.R.: A Gravitational Microlensing Visualization Tool\n",
    "I.M.A.G.E.R. (Images of Microlensing And Gravitational Einstein Rings), is to a tool that allow students and educators to visually appreciate the phenomenon of gravitaional lensing. There are two sections, the first is the most simple case where there is no exoplanet present in the lensing system while the second section includes the presence of a singular exoplanet. \n",
    "\n",
    "This notebook allows you to change the parameters that affect a graviationally lensed event and see how it effects the location and magnification of the images from the perspective of the observer. This will aid in the intuition behind the mathematical equations presented in class."
   ]
  },
  {
   "cell_type": "markdown",
   "metadata": {},
   "source": [
    "Make sure that you have the most updated version of ipywidgets. If you do not have ipywidgets simply use 'pip install ipywidgets' or 'conda install ipywidgets'."
   ]
  },
  {
   "cell_type": "code",
   "execution_count": 1,
   "metadata": {},
   "outputs": [],
   "source": [
    "#Run this cell to import all the required packages\n",
    "import numpy as np\n",
    "import matplotlib.pyplot as plt\n",
    "import ipywidgets as widgets\n",
    "from ipywidgets import HBox, Label\n",
    "from IPython.display import display"
   ]
  },
  {
   "cell_type": "markdown",
   "metadata": {},
   "source": [
    "## Gravitational Lensing with No Exoplanet\n",
    "Run the following cell once and the interactive sliders will appear along with the plots of the event and magnifcation. These plots will automatically update as you change the value of the slider. If the sliders do not appear please follow the solution to this issue here: https://stackoverflow.com/questions/36351109/ipython-notebook-ipywidgets-does-not-show. After following those steps, refresh your notebook and restart the kernel; the slider should appear then.\n",
    "\n",
    "The red dot is the source object, the green dot is the lensing object, and the black and blue dots are the lensed images of the source object."
   ]
  },
  {
   "cell_type": "code",
   "execution_count": 11,
   "metadata": {},
   "outputs": [
    {
     "data": {
      "application/vnd.jupyter.widget-view+json": {
       "model_id": "62a39656a471472eb48ae52713fe121f",
       "version_major": 2,
       "version_minor": 0
      },
      "text/plain": [
       "interactive(children=(FloatSlider(value=1.0, description='$D_L:$ [kpc] ', max=8.6, min=1e-100, style=SliderSty…"
      ]
     },
     "metadata": {},
     "output_type": "display_data"
    }
   ],
   "source": [
    "#Define Physical Constants\n",
    "c = 3e8\n",
    "G = 6.67430e-11\n",
    "\n",
    "#General stylistic and range of time\n",
    "style = {'description_width': 'initial'}\n",
    "t = np.arange(-100,100,1)\n",
    "\n",
    "def update_plot(dist_l, dist_s, mass, v_rel, u, t_0):\n",
    "    dist_r = (dist_s*3.086e+19 - dist_l*3.086e+19)/(dist_s*3.086e+19*dist_l*3.086e+19) #units of meters [m]\n",
    "    theta_e = np.sqrt(((4*mass*1.989e+30*G)/(c**2)*dist_r))*206265*1e3 #units of milli arcseconds [mas]\n",
    "    print('Einstein Radius [mas]:' + str(theta_e))\n",
    "\n",
    "    crossing_time = dist_l*3.086e+19 * (theta_e/1e3/206265) / (v_rel*3600*24) #units of days\n",
    "    print('Crossing Time [days]:' + str(crossing_time))\n",
    "\n",
    "    beta = u*theta_e\n",
    "    imag_pos = beta + np.sqrt(beta**2+4*theta_e**2) \n",
    "    #print('Positive Image:' + str(imag_pos))\n",
    "    imag_neg = beta - np.sqrt(beta**2+4*theta_e**2)\n",
    "    #print('Negative Image:' + str(imag_neg))\n",
    "    dist_ls = dist_s-dist_l\n",
    "\n",
    "    impact_t = np.sqrt((u)**2 + ((t-t_0)/crossing_time)**2)\n",
    "    mag = (impact_t**2+2)/impact_t/np.sqrt(impact_t**2+4)\n",
    "\n",
    "    fig, ax = plt.subplots(ncols=2,figsize=(12,6))\n",
    "    ax[0].set(xlim=(-10, 10), ylim = (-10, 10))\n",
    "    ax[0].plot(0,0,'ro')\n",
    "    ax[0].plot(u,'go')\n",
    "    ax[0].plot(imag_pos,imag_pos, 'ko')\n",
    "    ax[0].plot(imag_neg,imag_neg, 'bo')\n",
    "    ax[0].axhline(u)\n",
    "    ax[0].set_title('Gravitational Lensing',fontsize='x-large')\n",
    "    ax[0].set_xlabel(r'$\\theta_y [mas]$',fontsize='x-large')\n",
    "    ax[0].set_ylabel(r'$\\theta_x [mas]$',fontsize='x-large')\n",
    "    ax[0].grid(linestyle = '--')\n",
    "    a_circle = plt.Circle((0,0), theta_e, fill=False, color = 'k')\n",
    "    ax[0].add_artist(a_circle)\n",
    "\n",
    "    ax[1].set(xlim=(-16, 16), ylim = (0, 11))\n",
    "    ax[1].plot(t,mag)\n",
    "    ax[1].set_title('Event Light Curve',fontsize='x-large')\n",
    "    ax[1].set_xlabel('Time t [days]',fontsize='x-large')\n",
    "    ax[1].set_ylabel('Magnification',fontsize='x-large')\n",
    "    ax[1].grid(linestyle = '--')\n",
    "    plt.tight_layout()\n",
    "    plt.show()\n",
    "\n",
    "#The interactive slider settings can be updated here\n",
    "dist_l = widgets.FloatSlider(value=1, min=1e-100, max=8.6, description=r'$D_L:$ [kpc] ', style = style) # units of kpc\n",
    "dist_s = widgets.FloatSlider(value=2, min=1e-100, max=8.6, description=r'$D_S:$ [kpc]',style = style) \n",
    "mass = widgets.FloatSlider(value=1, min=1e-100, max=15.1, description='Lens Mass' + r'$M_{*}[M_{\\odot}]$' + ':',style = style) #units of kpc\n",
    "v_rel = widgets.FloatLogSlider(value = 1 , min=6, max = 10, description = r'$v_{\\bot}$ [m/s]:',style = style) #units of m/s\n",
    "u = widgets.FloatSlider(value = 0.1 , min=-2.1, max = 2.05, description = 'Impact Parameter'+' ' + r'$u_0~[\\theta_E]$:',style = style) #units of theta_e\n",
    "t_0 = widgets.FloatSlider(value = 0 , min=-16, max = 16, description = 'Time of Peak'+' '+ r'$t_0$ [days]:',style = style) #units of days\n",
    "\n",
    "#This function updates the minimum value of dist_s to be the value of dist_l as there would be no event if the source was closer than the lens\n",
    "def update_dist_s(*args):\n",
    "    dist_s.min = dist_l.value\n",
    "dist_l.observe(update_dist_s, 'value')\n",
    "\n",
    "#This line performs the live update of the plot and slider widgets as the user interacts with them\n",
    "widgets.interactive(update_plot, dist_l=dist_l, dist_s=dist_s, mass=mass, v_rel = v_rel, u=u, t_0=t_0)"
   ]
  },
  {
   "cell_type": "markdown",
   "metadata": {},
   "source": [
    "## Exoplanet Present in Lensing System\n",
    "The following cell provides a visual of what it is like if there was an exoplanet present in the system of the lensing object. Notice the additional peaks in the light curve from the lensing of the exoplanet in addition to the lensing object. \n",
    "\n",
    "The red dot is the source object, the green dot is the lensing object, the yellow dot is the exoplanet in the system of the lensing object, and the black and blue dots are the lensed images of the source object."
   ]
  },
  {
   "cell_type": "code",
   "execution_count": 10,
   "metadata": {},
   "outputs": [
    {
     "data": {
      "application/vnd.jupyter.widget-view+json": {
       "model_id": "5403be6fff044187ab8d0033b74c171b",
       "version_major": 2,
       "version_minor": 0
      },
      "text/plain": [
       "interactive(children=(FloatSlider(value=1.0, description='$D_L:$ [kpc] ', max=8.6, min=1.0, style=SliderStyle(…"
      ]
     },
     "metadata": {},
     "output_type": "display_data"
    }
   ],
   "source": [
    "#Define Physical Constants\n",
    "c = 3e8\n",
    "G = 6.67430e-11\n",
    "\n",
    "#General stylistic and range of time\n",
    "style = {'description_width': 'initial'}\n",
    "t = np.arange(-100,100,1)\n",
    "\n",
    "def update_plot(dist_l, dist_s, mass, mass_planet,v_rel, u, t_0):\n",
    "    dist_r = (dist_s*3.086e+19 - dist_l*3.086e+19)/(dist_s*3.086e+19*dist_l*3.086e+19) #units of meters [m]\n",
    "    theta_e = np.sqrt(((4*mass*1.989e+30*G)/(c**2)*dist_r))*206265*1e3 #units of milli arcseconds [mas]\n",
    "    print('Einstein Radius [mas]:' + str(theta_e))\n",
    "\n",
    "    crossing_time = dist_l*3.086e+19 * (theta_e/1e3/206265) / (v_rel*3600*24) #units of days\n",
    "    print('Crossing Time [days]:' + str(crossing_time))\n",
    "\n",
    "    beta = u*theta_e\n",
    "    imag_pos = beta + np.sqrt(beta**2+4*theta_e**2) \n",
    "    #print('Positive Image:' + str(imag_pos))\n",
    "    imag_neg = beta - np.sqrt(beta**2+4*theta_e**2)\n",
    "    #print('Negative Image:' + str(imag_neg))\n",
    "    dist_ls = dist_s-dist_l\n",
    "\n",
    "    impact_t = np.sqrt((u)**2 + ((t-t_0)/crossing_time)**2)\n",
    "    q = mass_planet/mass\n",
    "    new_mag = (impact_t**2+2)/impact_t/np.sqrt(impact_t**2+4)\n",
    "    i1 = 100 + int(t_0)\n",
    "    i2 = 99 + int(t_0)\n",
    "    i3 = 95 + int(t_0)\n",
    "    i4 = 98 + int(t_0)\n",
    "    if v_rel > 1e6:\n",
    "        new_mag[i1]=new_mag[i1]+new_mag[i1]*q\n",
    "        new_mag[i2]=new_mag[i2]+new_mag[i2]*q\n",
    "    else:\n",
    "        new_mag[i3]=new_mag[i3]+new_mag[i3]*q\n",
    "        new_mag[i4]=new_mag[i4]+new_mag[i4]*q\n",
    "    \n",
    "    fig, ax = plt.subplots(ncols=2,figsize=(12,6))\n",
    "    ax[0].set(xlim=(-10, 10), ylim = (-10, 10))\n",
    "    ax[0].plot(0,0,'ro')\n",
    "    ax[0].plot(u,'go')\n",
    "    ax[0].plot(-.5,u,'yo')\n",
    "    ax[0].plot(imag_pos,imag_pos, 'ko')\n",
    "    ax[0].plot(imag_neg,imag_neg, 'bo')\n",
    "    ax[0].axhline(u)\n",
    "    ax[0].set_title('Gravitational Microlensing of Planet',fontsize='x-large')\n",
    "    ax[0].set_xlabel(r'$\\theta_y [mas]$',fontsize='x-large')\n",
    "    ax[0].set_ylabel(r'$\\theta_x [mas]$',fontsize='x-large')\n",
    "    ax[0].grid(linestyle = '--')\n",
    "    a_circle = plt.Circle((0,0), theta_e, fill=False, color = 'k')\n",
    "    ax[0].add_artist(a_circle)\n",
    "\n",
    "    #ax[1].set(xlim=(-16, 16), ylim = (0, 11))\n",
    "    ax[1].plot(t,new_mag)\n",
    "    ax[1].set_title('Event Light Curve',fontsize='x-large')\n",
    "    ax[1].set_xlabel('Time t [days]',fontsize='x-large')\n",
    "    ax[1].set_ylabel('Magnification',fontsize='x-large')\n",
    "    ax[1].grid(linestyle = '--')\n",
    "    plt.tight_layout()\n",
    "    plt.show()\n",
    "\n",
    "#The interactive slider settings can be updated here\n",
    "dist_l = widgets.FloatSlider(value=1, min=1, max=8.6, description=r'$D_L:$ [kpc] ', style = style) # units of kpc\n",
    "dist_s = widgets.FloatSlider(value=2, min=1, max=8.6, description=r'$D_S:$ [kpc]',style = style) #units of kpc\n",
    "mass = widgets.FloatSlider(value=2, min=1, max=15.1, description='Lens Mass' + r'$M_{*}[M_{\\odot}]$' + ':',style = style)\n",
    "mass_planet = widgets.FloatSlider(value=1, min=1, max=10.1, description='Exoplanet Mass' + r'$ M_p [M_{\\odot}]$' + ':',style = style)\n",
    "v_rel = widgets.FloatLogSlider(value = 1 , min=6, max = 10, description = r'$v_{\\bot}$ [m/s]:',style = style) #units of m/s\n",
    "u = widgets.FloatSlider(value = 0.1 , min=-2.1, max = 2.05, description = 'Impact Parameter'+' ' + r'$u_0~[\\theta_E]$:',style = style) #units of theta_e\n",
    "t_0 = widgets.FloatSlider(value = 0 , min=-16, max = 16, description = 'Time of Peak'+' '+ r'$t_0$ [days]:',style = style) #units of days\n",
    "\n",
    "#This function updates the minimum value of dist_s to be the value of dist_l as there would be no event if the source was closer than the lens\n",
    "def update_dist_s(*args):\n",
    "    dist_s.min = dist_l.value\n",
    "dist_l.observe(update_dist_s, 'value')\n",
    "\n",
    "def update_mass_planet(*args):\n",
    "    mass_planet.max = mass.value\n",
    "mass.observe(update_mass_planet, 'value')\n",
    "\n",
    "#This line performs the live update of the plot and slider widgets as the user interacts with them\n",
    "widgets.interactive(update_plot, dist_l=dist_l, dist_s=dist_s, mass=mass, mass_planet=mass_planet,v_rel = v_rel, u=u, t_0=t_0)"
   ]
  },
  {
   "cell_type": "code",
   "execution_count": null,
   "metadata": {},
   "outputs": [],
   "source": []
  }
 ],
 "metadata": {
  "kernelspec": {
   "display_name": "Python 3",
   "language": "python",
   "name": "python3"
  },
  "language_info": {
   "codemirror_mode": {
    "name": "ipython",
    "version": 3
   },
   "file_extension": ".py",
   "mimetype": "text/x-python",
   "name": "python",
   "nbconvert_exporter": "python",
   "pygments_lexer": "ipython3",
   "version": "3.7.3"
  }
 },
 "nbformat": 4,
 "nbformat_minor": 2
}
